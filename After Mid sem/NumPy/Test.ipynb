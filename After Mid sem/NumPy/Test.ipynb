{
 "cells": [
  {
   "cell_type": "code",
   "execution_count": 47,
   "metadata": {},
   "outputs": [
    {
     "name": "stdout",
     "output_type": "stream",
     "text": [
      "        Name  Age  Salary Department  Net_Salary\n",
      "0      Ayush   21   20000       mark    260000.0\n",
      "1  prabhjyot   22    1500         it     19800.0\n",
      "2     khalid   23   15000         it    198000.0\n"
     ]
    }
   ],
   "source": [
    "# using pandas create a dataframe comprising of name age salary and department of n employees\n",
    "#  and find out all empolyees with salary less than 20000, increase the salary of all employee by 10% \n",
    "# and remaining of 5%\n",
    "# find out all the employee who work in marketing department at a bonus of 20000 to their salary\n",
    "#  also calculate the net salary of all the employee in marketing department for the year\n",
    "\n",
    "import pandas as pd\n",
    "import numpy as np\n",
    "n = int(input(\"Enter the number of employees: \"))\n",
    "name = []\n",
    "age = []\n",
    "salary = []\n",
    "department = []\n",
    "for i in range(n):\n",
    "    z1=input(\"Enter the name: \")\n",
    "    z2=int(input(\"Enter the age: \"))\n",
    "    z3=int(input(\"Enter the salary: \"))\n",
    "    z4=input(\"Enter the department: \")\n",
    "    name.append(z1)\n",
    "    age.append(z2)\n",
    "    salary.append(z3)\n",
    "    department.append(z4)\n",
    "\n",
    "netSal=salary.copy()\n",
    "for i in range(n):\n",
    "    netSal[i]*=12\n",
    "for i in range(n):\n",
    "    if (salary[i]<20000):\n",
    "        netSal[i]+=( netSal[i])*0.1\n",
    "    elif(salary[i]>20000):\n",
    "        netSal[i]+=(netSal[i])*0.05\n",
    "    if (department[i]=='mark'):\n",
    "        netSal[i]+=20000\n",
    "    \n",
    "d={'Name':name,'Age':age,'Salary':salary,'Department':department,'Net_Salary':netSal}\n",
    "df=pd.DataFrame(d)\n",
    "print(df)\n"
   ]
  },
  {
   "cell_type": "code",
   "execution_count": null,
   "metadata": {},
   "outputs": [],
   "source": []
  }
 ],
 "metadata": {
  "kernelspec": {
   "display_name": "Python 3",
   "language": "python",
   "name": "python3"
  },
  "language_info": {
   "codemirror_mode": {
    "name": "ipython",
    "version": 3
   },
   "file_extension": ".py",
   "mimetype": "text/x-python",
   "name": "python",
   "nbconvert_exporter": "python",
   "pygments_lexer": "ipython3",
   "version": "3.10.6"
  },
  "orig_nbformat": 4
 },
 "nbformat": 4,
 "nbformat_minor": 2
}
