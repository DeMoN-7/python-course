{
 "cells": [
  {
   "cell_type": "code",
   "execution_count": 2,
   "metadata": {},
   "outputs": [],
   "source": [
    "import numpy as np"
   ]
  },
  {
   "cell_type": "code",
   "execution_count": 6,
   "metadata": {},
   "outputs": [
    {
     "data": {
      "text/plain": [
       "array([[[0.36254716, 0.66292345, 0.96630428],\n",
       "        [0.4124466 , 0.31093325, 0.73891854],\n",
       "        [0.42178686, 0.67745753, 0.96277968]],\n",
       "\n",
       "       [[0.42853534, 0.21489316, 0.37726832],\n",
       "        [0.73772617, 0.96142303, 0.94054299],\n",
       "        [0.34619849, 0.49375056, 0.07616558]],\n",
       "\n",
       "       [[0.72561027, 0.19867782, 0.02340019],\n",
       "        [0.38849019, 0.55049766, 0.19639335],\n",
       "        [0.6512662 , 0.15050452, 0.10854182]]])"
      ]
     },
     "execution_count": 6,
     "metadata": {},
     "output_type": "execute_result"
    }
   ],
   "source": [
    "array=np.random.random((3,3,3))\n",
    "array"
   ]
  },
  {
   "cell_type": "code",
   "execution_count": 7,
   "metadata": {},
   "outputs": [],
   "source": [
    "arr=np.random.random((5,5))\n"
   ]
  },
  {
   "cell_type": "code",
   "execution_count": 8,
   "metadata": {},
   "outputs": [
    {
     "data": {
      "text/plain": [
       "array([[0.49706951, 0.65946141, 0.1936971 , 0.88317153, 0.3591529 ],\n",
       "       [0.43452055, 0.89271492, 0.33408185, 0.22085638, 0.51460658],\n",
       "       [0.18785001, 0.39781113, 0.07173265, 0.8993177 , 0.82940755],\n",
       "       [0.64910751, 0.10315875, 0.06209804, 0.53454698, 0.54668366],\n",
       "       [0.78229598, 0.11561314, 0.85872635, 0.20138561, 0.51566165]])"
      ]
     },
     "execution_count": 8,
     "metadata": {},
     "output_type": "execute_result"
    }
   ],
   "source": [
    "arr"
   ]
  },
  {
   "cell_type": "code",
   "execution_count": 9,
   "metadata": {},
   "outputs": [
    {
     "name": "stdout",
     "output_type": "stream",
     "text": [
      "0.06209804401822372\n",
      "0.8993176955365904\n"
     ]
    }
   ],
   "source": [
    "print(np.min(arr))\n",
    "print(np.max(arr))"
   ]
  },
  {
   "cell_type": "code",
   "execution_count": 10,
   "metadata": {},
   "outputs": [
    {
     "data": {
      "text/plain": [
       "array([[0.67954332, 0.78450957, 0.05050293, 0.87516061],\n",
       "       [0.42919238, 0.25357917, 0.67733499, 0.39238615],\n",
       "       [0.98148168, 0.4844884 , 0.42157889, 0.49752876],\n",
       "       [0.38004775, 0.05363152, 0.65850239, 0.39640362],\n",
       "       [0.4495792 , 0.18329969, 0.14288376, 0.06344887],\n",
       "       [0.8121002 , 0.14498703, 0.69344883, 0.49567569],\n",
       "       [0.10348863, 0.20868383, 0.88915531, 0.11177207],\n",
       "       [0.04190824, 0.03136843, 0.94577403, 0.73936513],\n",
       "       [0.27714013, 0.32217622, 0.30218733, 0.58657723],\n",
       "       [0.70409154, 0.60323126, 0.53692588, 0.30169916]])"
      ]
     },
     "execution_count": 10,
     "metadata": {},
     "output_type": "execute_result"
    }
   ],
   "source": [
    "arr2=np.random.random((10,4))\n",
    "arr2"
   ]
  },
  {
   "cell_type": "code",
   "execution_count": 11,
   "metadata": {},
   "outputs": [],
   "source": [
    "arr3=arr2[0:4]"
   ]
  },
  {
   "cell_type": "code",
   "execution_count": 12,
   "metadata": {},
   "outputs": [
    {
     "data": {
      "text/plain": [
       "array([[0.67954332, 0.78450957, 0.05050293, 0.87516061],\n",
       "       [0.42919238, 0.25357917, 0.67733499, 0.39238615],\n",
       "       [0.98148168, 0.4844884 , 0.42157889, 0.49752876],\n",
       "       [0.38004775, 0.05363152, 0.65850239, 0.39640362]])"
      ]
     },
     "execution_count": 12,
     "metadata": {},
     "output_type": "execute_result"
    }
   ],
   "source": [
    "arr3"
   ]
  },
  {
   "cell_type": "code",
   "execution_count": 15,
   "metadata": {},
   "outputs": [
    {
     "name": "stdout",
     "output_type": "stream",
     "text": [
      "3.6\n"
     ]
    }
   ],
   "source": [
    "array11= np.array([1.2, 2.4, 3.6, 4.8, 6.0])\n",
    "given_val=3.1\n",
    "ab=np.abs(array11-given_val)\n",
    "index=np.argmin(ab)\n",
    "print(array11[index])"
   ]
  },
  {
   "cell_type": "code",
   "execution_count": 16,
   "metadata": {},
   "outputs": [
    {
     "data": {
      "text/plain": [
       "array([0, 1, 2, 3, 4, 5, 6, 7, 8])"
      ]
     },
     "execution_count": 16,
     "metadata": {},
     "output_type": "execute_result"
    }
   ],
   "source": [
    "ra=np.arange(9)\n",
    "ra"
   ]
  },
  {
   "cell_type": "code",
   "execution_count": 17,
   "metadata": {},
   "outputs": [
    {
     "data": {
      "text/plain": [
       "array([[0, 1, 2],\n",
       "       [3, 4, 5],\n",
       "       [6, 7, 8]])"
      ]
     },
     "execution_count": 17,
     "metadata": {},
     "output_type": "execute_result"
    }
   ],
   "source": [
    "ra.reshape((3,3))"
   ]
  },
  {
   "cell_type": "code",
   "execution_count": null,
   "metadata": {},
   "outputs": [],
   "source": []
  }
 ],
 "metadata": {
  "kernelspec": {
   "display_name": "Python 3",
   "language": "python",
   "name": "python3"
  },
  "language_info": {
   "codemirror_mode": {
    "name": "ipython",
    "version": 3
   },
   "file_extension": ".py",
   "mimetype": "text/x-python",
   "name": "python",
   "nbconvert_exporter": "python",
   "pygments_lexer": "ipython3",
   "version": "3.10.6"
  },
  "orig_nbformat": 4
 },
 "nbformat": 4,
 "nbformat_minor": 2
}
