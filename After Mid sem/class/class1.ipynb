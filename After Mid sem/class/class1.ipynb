{
 "cells": [
  {
   "cell_type": "code",
   "execution_count": 29,
   "metadata": {},
   "outputs": [],
   "source": [
    "import numpy"
   ]
  },
  {
   "cell_type": "code",
   "execution_count": 17,
   "metadata": {},
   "outputs": [],
   "source": [
    "class student:\n",
    "    age=10\n",
    "    def show(w):\n",
    "        w.age=20\n",
    "        print(w.age)"
   ]
  },
  {
   "cell_type": "code",
   "execution_count": 18,
   "metadata": {},
   "outputs": [
    {
     "name": "stdout",
     "output_type": "stream",
     "text": [
      "20\n",
      "22\n"
     ]
    }
   ],
   "source": [
    "s=student()\n",
    "s.show()\n",
    "s.age=22\n",
    "print(s.age)"
   ]
  },
  {
   "cell_type": "code",
   "execution_count": 19,
   "metadata": {},
   "outputs": [],
   "source": [
    "# define a class student and display weather the student is pass or fail\n",
    "#  based on the score of 5 subject"
   ]
  },
  {
   "cell_type": "code",
   "execution_count": 30,
   "metadata": {},
   "outputs": [],
   "source": [
    "class result:\n",
    "    def inp(ww):\n",
    "        ww.math=int(input(\"Enter Marks\"))\n",
    "        ww.science=int(input(\"Enter Marks\"))\n",
    "        ww.social=int(input(\"Enter Marks\"))\n",
    "        ww.computer=int(input(\"Enter Marks\"))\n",
    "        ww.english=int(input(\"Enter Marks\"))\n",
    "    def resul(ww):\n",
    "        ww.avg=(ww.math+ww.science+ww.social+ww.computer+ww.english)/5\n",
    "        if(ww.avg>90):\n",
    "            print(\"A+\")\n",
    "        elif(ww.avg>80):\n",
    "            print(\"B+\")\n",
    "        elif(ww.avg>70):\n",
    "            print(\"C+\")\n",
    "        elif(ww.avg>60):\n",
    "            print(\"D+\")\n",
    "        elif(ww.avg>50):\n",
    "            print(\"E+\")\n",
    "        elif(ww.avg<40):\n",
    "            print(\"Fail\")\n",
    "    \n"
   ]
  },
  {
   "cell_type": "code",
   "execution_count": 31,
   "metadata": {},
   "outputs": [],
   "source": [
    "res=result()\n",
    "res.inp()\n",
    "res.resul()"
   ]
  },
  {
   "cell_type": "code",
   "execution_count": 34,
   "metadata": {},
   "outputs": [
    {
     "ename": "AttributeError",
     "evalue": "'ResCalc' object has no attribute 'math'",
     "output_type": "error",
     "traceback": [
      "\u001b[1;31m---------------------------------------------------------------------------\u001b[0m",
      "\u001b[1;31mAttributeError\u001b[0m                            Traceback (most recent call last)",
      "Cell \u001b[1;32mIn[34], line 28\u001b[0m\n\u001b[0;32m     26\u001b[0m     m4\u001b[39m=\u001b[39m\u001b[39mint\u001b[39m(\u001b[39minput\u001b[39m(\u001b[39m\"\u001b[39m\u001b[39mEnter the number\u001b[39m\u001b[39m\"\u001b[39m))\n\u001b[0;32m     27\u001b[0m     m5\u001b[39m=\u001b[39m\u001b[39mint\u001b[39m(\u001b[39minput\u001b[39m(\u001b[39m\"\u001b[39m\u001b[39mEnter the number\u001b[39m\u001b[39m\"\u001b[39m))\n\u001b[1;32m---> 28\u001b[0m     li\u001b[39m.\u001b[39mappend(z\u001b[39m.\u001b[39;49mstu(m1,m2,m3,m4,m5))\n\u001b[0;32m     29\u001b[0m \u001b[39mfor\u001b[39;00m z \u001b[39min\u001b[39;00m li:\n\u001b[0;32m     30\u001b[0m     z\u001b[39m.\u001b[39mstu()\n",
      "Cell \u001b[1;32mIn[34], line 4\u001b[0m, in \u001b[0;36mResCalc.stu\u001b[1;34m(ww, math, science, social, computer, english)\u001b[0m\n\u001b[0;32m      3\u001b[0m \u001b[39mdef\u001b[39;00m \u001b[39mstu\u001b[39m(ww,math,science,social,computer,english):\n\u001b[1;32m----> 4\u001b[0m     ww\u001b[39m.\u001b[39mavg\u001b[39m=\u001b[39m(ww\u001b[39m.\u001b[39;49mmath\u001b[39m+\u001b[39mww\u001b[39m.\u001b[39mscience\u001b[39m+\u001b[39mww\u001b[39m.\u001b[39msocial\u001b[39m+\u001b[39mww\u001b[39m.\u001b[39mcomputer\u001b[39m+\u001b[39mww\u001b[39m.\u001b[39menglish)\u001b[39m/\u001b[39m\u001b[39m5\u001b[39m\n\u001b[0;32m      5\u001b[0m     \u001b[39mif\u001b[39;00m(ww\u001b[39m.\u001b[39mavg\u001b[39m>\u001b[39m\u001b[39m90\u001b[39m):\n\u001b[0;32m      6\u001b[0m         \u001b[39mprint\u001b[39m(\u001b[39m\"\u001b[39m\u001b[39mA+\u001b[39m\u001b[39m\"\u001b[39m)\n",
      "\u001b[1;31mAttributeError\u001b[0m: 'ResCalc' object has no attribute 'math'"
     ]
    }
   ],
   "source": [
    "class ResCalc:\n",
    "    # math=science=social=english=computer=0\n",
    "    def stu(ww,math,science,social,computer,english):\n",
    "        ww.avg=(ww.math+ww.science+ww.social+ww.computer+ww.english)/5\n",
    "        if(ww.avg>90):\n",
    "            print(\"A+\")\n",
    "        elif(ww.avg>80):\n",
    "            print(\"B+\")\n",
    "        elif(ww.avg>70):\n",
    "            print(\"C+\")\n",
    "        elif(ww.avg>60):\n",
    "            print(\"D+\")\n",
    "        elif(ww.avg>50):\n",
    "            print(\"E+\")\n",
    "        elif(ww.avg<40):\n",
    "            print(\"Fail\")\n",
    "\n",
    "li=[]\n",
    "z=ResCalc()\n",
    "\n",
    "for i in range(0,5):\n",
    "    a=input(\"Enter the name\")\n",
    "    m1=int(input(\"Enter the number\"))\n",
    "    m2=int(input(\"Enter the number\"))\n",
    "    m3=int(input(\"Enter the number\"))\n",
    "    m4=int(input(\"Enter the number\"))\n",
    "    m5=int(input(\"Enter the number\"))\n",
    "    li.append(z.stu(m1,m2,m3,m4,m5))\n",
    "for z in li:\n",
    "    z.stu()\n",
    "\n",
    "    \n",
    "        "
   ]
  },
  {
   "cell_type": "code",
   "execution_count": null,
   "metadata": {},
   "outputs": [],
   "source": []
  }
 ],
 "metadata": {
  "kernelspec": {
   "display_name": "Python 3",
   "language": "python",
   "name": "python3"
  },
  "language_info": {
   "codemirror_mode": {
    "name": "ipython",
    "version": 3
   },
   "file_extension": ".py",
   "mimetype": "text/x-python",
   "name": "python",
   "nbconvert_exporter": "python",
   "pygments_lexer": "ipython3",
   "version": "3.10.6"
  },
  "orig_nbformat": 4
 },
 "nbformat": 4,
 "nbformat_minor": 2
}
