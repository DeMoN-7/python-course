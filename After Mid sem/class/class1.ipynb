{
 "cells": [
  {
   "cell_type": "code",
   "execution_count": 17,
   "metadata": {},
   "outputs": [],
   "source": [
    "class student:\n",
    "    age=10\n",
    "    def show(w):\n",
    "        w.age=20\n",
    "        print(w.age)"
   ]
  },
  {
   "cell_type": "code",
   "execution_count": 18,
   "metadata": {},
   "outputs": [
    {
     "name": "stdout",
     "output_type": "stream",
     "text": [
      "20\n",
      "22\n"
     ]
    }
   ],
   "source": [
    "s=student()\n",
    "s.show()\n",
    "s.age=22\n",
    "print(s.age)"
   ]
  },
  {
   "cell_type": "code",
   "execution_count": 19,
   "metadata": {},
   "outputs": [],
   "source": [
    "# define a class student and display weather the student is pass or fail\n",
    "#  based on the score of 5 subject"
   ]
  },
  {
   "cell_type": "code",
   "execution_count": 28,
   "metadata": {},
   "outputs": [
    {
     "name": "stdout",
     "output_type": "stream",
     "text": [
      "Fail\n"
     ]
    }
   ],
   "source": [
    "class result:\n",
    "    # math=science=social=english=computer=0\n",
    "    def inp(ww):\n",
    "        ww.math=int(input(\"Enter Marks\"))\n",
    "        ww.science=int(input(\"Enter Marks\"))\n",
    "        ww.social=int(input(\"Enter Marks\"))\n",
    "        ww.computer=int(input(\"Enter Marks\"))\n",
    "        ww.english=int(input(\"Enter Marks\"))\n",
    "    def resul(ww):\n",
    "        ww.avg=(ww.math+ww.science+ww.social+ww.computer+ww.english)/5\n",
    "        if(ww.avg>90):\n",
    "            print(\"A+\")\n",
    "        elif(ww.avg>80):\n",
    "            print(\"B+\")\n",
    "        elif(ww.avg>70):\n",
    "            print(\"C+\")\n",
    "        elif(ww.avg>60):\n",
    "            print(\"D+\")\n",
    "        elif(ww.avg>50):\n",
    "            print(\"E+\")\n",
    "        elif(ww.avg<40):\n",
    "            print(\"Fail\")\n",
    "    \n",
    "res=result()\n",
    "res.inp()\n",
    "res.resul()"
   ]
  },
  {
   "cell_type": "code",
   "execution_count": null,
   "metadata": {},
   "outputs": [],
   "source": []
  },
  {
   "cell_type": "code",
   "execution_count": null,
   "metadata": {},
   "outputs": [],
   "source": []
  }
 ],
 "metadata": {
  "kernelspec": {
   "display_name": "Python 3",
   "language": "python",
   "name": "python3"
  },
  "language_info": {
   "codemirror_mode": {
    "name": "ipython",
    "version": 3
   },
   "file_extension": ".py",
   "mimetype": "text/x-python",
   "name": "python",
   "nbconvert_exporter": "python",
   "pygments_lexer": "ipython3",
   "version": "3.10.6"
  },
  "orig_nbformat": 4
 },
 "nbformat": 4,
 "nbformat_minor": 2
}
