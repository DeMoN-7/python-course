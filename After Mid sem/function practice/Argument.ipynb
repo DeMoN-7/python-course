{
 "cells": [
  {
   "cell_type": "code",
   "execution_count": 1,
   "metadata": {},
   "outputs": [],
   "source": [
    "a=int(input(\"enter the first number: \"))\n",
    "b=int(input(\"Enter the second number: \"))"
   ]
  },
  {
   "cell_type": "code",
   "execution_count": 14,
   "metadata": {},
   "outputs": [
    {
     "name": "stdout",
     "output_type": "stream",
     "text": [
      "Avg:  33.5   |||   A= 33   |||    B= 34\n",
      "Avg:  49.0   |||   A= 44   |||    B= 54\n",
      "Avg:  27.0   |||   A= 33   |||    B= 21\n"
     ]
    }
   ],
   "source": [
    "def avgg(a=33,b=34):\n",
    "    print(\"Avg: \",(a+b)/2,end=\"   |||   \")\n",
    "    print(\"A=\",a,end=\"   |||    \")\n",
    "    print(\"B=\",b)\n",
    "avgg()\n",
    "avgg(44,54)\n",
    "avgg(b=21,a=33)"
   ]
  },
  {
   "cell_type": "code",
   "execution_count": 19,
   "metadata": {},
   "outputs": [
    {
     "name": "stdout",
     "output_type": "stream",
     "text": [
      "15\n"
     ]
    }
   ],
   "source": [
    "def su(*num):\n",
    "    sum=0\n",
    "    for i in num:\n",
    "        sum=sum+i\n",
    "    print(sum)\n",
    "\n",
    "su(4,5,6)\n",
    "# a=[1,2,3]\n",
    "# su(a)\n"
   ]
  }
 ],
 "metadata": {
  "kernelspec": {
   "display_name": "Python 3",
   "language": "python",
   "name": "python3"
  },
  "language_info": {
   "codemirror_mode": {
    "name": "ipython",
    "version": 3
   },
   "file_extension": ".py",
   "mimetype": "text/x-python",
   "name": "python",
   "nbconvert_exporter": "python",
   "pygments_lexer": "ipython3",
   "version": "3.10.6"
  },
  "orig_nbformat": 4
 },
 "nbformat": 4,
 "nbformat_minor": 2
}
